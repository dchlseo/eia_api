{
 "cells": [
  {
   "cell_type": "code",
   "execution_count": 17,
   "id": "65a01872",
   "metadata": {},
   "outputs": [
    {
     "name": "stdout",
     "output_type": "stream",
     "text": [
      "           jet_fuel_usd_per_gal\n",
      "date                           \n",
      "2005-01-01                1.334\n",
      "2005-02-01                1.334\n",
      "2005-03-01                1.562\n",
      "2005-04-01                1.573\n",
      "2005-05-01                1.471 \n",
      "            jet_fuel_usd_per_gal\n",
      "date                           \n",
      "2024-12-01                2.097\n",
      "2025-01-01                2.347\n",
      "2025-02-01                2.264\n",
      "2025-03-01                2.069\n",
      "2025-04-01                1.976\n",
      "Saved to data/jet_fuel_price_2005_2025.csv\n"
     ]
    }
   ],
   "source": [
    "import requests\n",
    "import pandas as pd\n",
    "import json\n",
    "\n",
    "# import eia_api.json\n",
    "with open(\"eia_api.json\", \"r\") as f:\n",
    "    config = json.load(f)\n",
    "\n",
    "# ---- 설정 ----\n",
    "API_KEY = config[\"eia_api\"]\n",
    "\n",
    "url = \"https://api.eia.gov/v2/petroleum/pri/spt/data/\"\n",
    "params = {\n",
    "    \"api_key\": API_KEY,\n",
    "    \"frequency\": \"monthly\",\n",
    "    \"data[0]\": \"value\",\n",
    "    \"facets[product][]\": \"EPJK\",  # Kerosene-type jet fuel\n",
    "    \"start\": \"2005-01\",\n",
    "    \"end\": \"2025-05\",\n",
    "    \"sort[0][column]\": \"period\",\n",
    "    \"sort[0][direction]\": \"asc\",   # ascending order for time series\n",
    "    \"offset\": 0,\n",
    "    \"length\": 5000\n",
    "}\n",
    "\n",
    "r = requests.get(url, params=params, timeout=30)\n",
    "js = r.json()\n",
    "\n",
    "# Extract into DataFrame\n",
    "df = pd.DataFrame(js[\"response\"][\"data\"])\n",
    "df[\"date\"] = pd.to_datetime(df[\"period\"])\n",
    "df = df[[\"date\", \"value\"]].rename(columns={\"value\": \"jet_fuel_usd_per_gal\"})\n",
    "df = df.sort_values(\"date\").set_index(\"date\")\n",
    "\n",
    "print(df.head(), \"\\n\", df.tail())\n",
    "# df.to_csv(\"jet_fuel_price_2005_2025.csv\", encoding=\"utf-8-sig\")\n",
    "\n",
    "df.to_csv(\"data/jet_fuel_price_2005_2025.csv\", encoding=\"utf-8-sig\")\n",
    "print(\"Saved to data/jet_fuel_price_2005_2025.csv\")\n"
   ]
  },
  {
   "cell_type": "code",
   "execution_count": null,
   "id": "3606e5be",
   "metadata": {},
   "outputs": [],
   "source": []
  }
 ],
 "metadata": {
  "kernelspec": {
   "display_name": "tripadvisor_scraper",
   "language": "python",
   "name": "python3"
  },
  "language_info": {
   "codemirror_mode": {
    "name": "ipython",
    "version": 3
   },
   "file_extension": ".py",
   "mimetype": "text/x-python",
   "name": "python",
   "nbconvert_exporter": "python",
   "pygments_lexer": "ipython3",
   "version": "3.12.9"
  }
 },
 "nbformat": 4,
 "nbformat_minor": 5
}
