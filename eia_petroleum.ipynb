{
 "cells": [
  {
   "cell_type": "code",
   "execution_count": 0,
   "metadata": {
    "application/vnd.databricks.v1+cell": {
     "cellMetadata": {
      "byteLimit": 2048000,
      "rowLimit": 10000
     },
     "inputWidgets": {},
     "nuid": "41be9698-8b38-46a5-81b4-5051c9c16af1",
     "showTitle": false,
     "tableResultSettingsMap": {},
     "title": ""
    }
   },
   "outputs": [],
   "source": [
    "import requests\n",
    "import pandas as pd\n",
    "import json\n",
    "from pathlib import Path\n",
    "\n",
    "# import eia_api.json\n",
    "with open(\"eia_api.json\", \"r\") as f:\n",
    "    config = json.load(f)\n",
    "\n",
    "# ---- 설정 ----\n",
    "API_KEY = config[\"eia_api\"]\n",
    "\n",
    "url = \"https://api.eia.gov/v2/petroleum/pri/spt/data/\"\n",
    "params = {\n",
    "    \"api_key\": API_KEY,\n",
    "    \"frequency\": \"monthly\",\n",
    "    \"data[0]\": \"value\",\n",
    "    \"facets[product][]\": \"EPJK\",  # Kerosene-type jet fuel\n",
    "    \"start\": \"2005-01\",\n",
    "    \"end\": \"2025-05\",\n",
    "    \"sort[0][column]\": \"period\",\n",
    "    \"sort[0][direction]\": \"asc\",   # ascending order for time series\n",
    "    \"offset\": 0,\n",
    "    \"length\": 5000\n",
    "}\n",
    "\n",
    "r = requests.get(url, params=params, timeout=30)\n",
    "js = r.json()\n",
    "\n",
    "# Extract into DataFrame\n",
    "df = pd.DataFrame(js[\"response\"][\"data\"])\n",
    "df[\"date\"] = pd.to_datetime(df[\"period\"])\n",
    "df = df[[\"date\", \"value\"]].rename(columns={\"value\": \"jet_fuel_usd_per_gal\"})\n",
    "df = df.sort_values(\"date\").set_index(\"date\")\n",
    "\n",
    "print(df.head(), \"\\n\", df.tail())\n",
    "# df.to_csv(\"jet_fuel_price_2005_2025.csv\", encoding=\"utf-8-sig\")\n",
    "\n",
    "OUTDIR = Path(\"./data\")\n",
    "OUTDIR.mkdir(parents=True, exist_ok=True)\n",
    "\n",
    "df.to_csv(\"data/jet_fuel_price_2005_2025.csv\", encoding=\"utf-8-sig\")\n",
    "print(\"Saved to data/jet_fuel_price_2005_2025.csv\")\n"
   ]
  },
  {
   "cell_type": "code",
   "execution_count": 0,
   "metadata": {
    "application/vnd.databricks.v1+cell": {
     "cellMetadata": {},
     "inputWidgets": {},
     "nuid": "84e6154f-6582-4a73-b69b-b2535713e47a",
     "showTitle": false,
     "tableResultSettingsMap": {},
     "title": ""
    }
   },
   "outputs": [],
   "source": []
  }
 ],
 "metadata": {
  "application/vnd.databricks.v1+notebook": {
   "computePreferences": null,
   "dashboards": [],
   "environmentMetadata": null,
   "inputWidgetPreferences": null,
   "language": "python",
   "notebookMetadata": {
    "pythonIndentUnit": 4
   },
   "notebookName": "eia_petroleum",
   "widgets": {}
  },
  "kernelspec": {
   "display_name": "tripadvisor_scraper",
   "language": "python",
   "name": "python3"
  },
  "language_info": {
   "name": "python"
  }
 },
 "nbformat": 4,
 "nbformat_minor": 0
}
