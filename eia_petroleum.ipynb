{
 "cells": [
  {
   "cell_type": "code",
   "execution_count": null,
   "id": "34d562ec",
   "metadata": {},
   "outputs": [],
   "source": [
    "import requests\n",
    "import pandas as pd\n",
    "import json\n",
    "\n",
    "# import eia_api.json\n",
    "with open(\"eia_api.json\", \"r\") as f:\n",
    "    config = json.load(f)\n",
    "\n",
    "# ---- 설정 ----\n",
    "API_KEY = config[\"eia_api\"]\n",
    "# Jet Fuel Kerosene Spot Price (U.S. Gulf Coast) - monthly\n",
    "# EIA series_id: PET.EER_EPMRU_PF4_Y05_M (USD/gallon)\n",
    "SERIES_ID = \"PET.EER_EPMRU_PF4_Y05_M\"\n",
    "\n",
    "url = f\"https://api.eia.gov/v2/petroleum/pri/gnd/data/?api_key={API_KEY}&frequency=monthly&data[0]=value&facets[seriesid][]={SERIES_ID}&start=200501&end=202505\"\n",
    "\n",
    "# ---- 요청 ----\n",
    "resp = requests.get(url)\n",
    "data = resp.json()\n",
    "\n",
    "# ---- 파싱 ----\n",
    "df = pd.DataFrame(data[\"response\"][\"data\"])\n",
    "df[\"date\"] = pd.to_datetime(df[\"period\"])\n",
    "df = df[[\"date\", \"value\"]].rename(columns={\"value\": \"jet_fuel_usd_per_gal\"})\n",
    "\n",
    "# ---- 월 단위 정리 ----\n",
    "df = df.set_index(\"date\").sort_index()\n",
    "\n",
    "print(df.head())\n",
    "print(df.tail())\n",
    "\n",
    "# CSV 저장\n",
    "df.to_csv(\"jet_fuel_price_2005_2025.csv\")\n"
   ]
  }
 ],
 "metadata": {
  "language_info": {
   "name": "python"
  }
 },
 "nbformat": 4,
 "nbformat_minor": 5
}
